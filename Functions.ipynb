{
  "nbformat": 4,
  "nbformat_minor": 0,
  "metadata": {
    "colab": {
      "provenance": []
    },
    "kernelspec": {
      "name": "python3",
      "display_name": "Python 3"
    },
    "language_info": {
      "name": "python"
    }
  },
  "cells": [
    {
      "cell_type": "markdown",
      "source": [
        "## Functions Assignment"
      ],
      "metadata": {
        "id": "Wyycawxe0Yy6"
      }
    },
    {
      "cell_type": "markdown",
      "source": [
        "1. . What is the difference between a function and a method in Python?\n",
        "- A function is a structured, reusable code block utilized for carrying out a specific task. Functions facilitate the creation of modular code, simplifying maintenance and reusability.\n",
        "Functions can be called only by its name, as it is defined independently. But methods can’t be called by its name only,\n",
        "Method is defined within a class and hence they are dependent on that class."
      ],
      "metadata": {
        "id": "AUUoWAgU0w3x"
      }
    },
    {
      "cell_type": "code",
      "source": [
        "#User-Defined  Method\n",
        "class ABC :\n",
        "    def method_abc (self):\n",
        "        print(\"I am in method_abc of ABC class. \")\n",
        "\n"
      ],
      "metadata": {
        "id": "HZl8vRyW2R5C"
      },
      "execution_count": null,
      "outputs": []
    },
    {
      "cell_type": "code",
      "source": [
        "#function eg : def factorial(n):\n",
        "    \"\"\"\n",
        "    This function returns the factorial of a given number.\n",
        "    \"\"\"\n",
        "    if n == 0:\n",
        "        return 1\n",
        "    else:\n",
        "        return n * factorial(n - 1)"
      ],
      "metadata": {
        "id": "w6t-1UyU2e9T"
      },
      "execution_count": null,
      "outputs": []
    },
    {
      "cell_type": "markdown",
      "source": [
        "2.  Explain the concept of function arguments and parameters in Python.\n",
        "- Parameters are variables defined in a function declaration. This act as placeholders for the values (arguments) that will be passed to the function.\n",
        "\n",
        "- Arguments are the actual values that you pass to the function when you call it. These values replace the parameters defined in the function.\n",
        "\n",
        "Types of arguments in python\n",
        "Python functions can contain two types of arguments:\n",
        "\n",
        "*Positional Arguments\n",
        "*Keyword Arguments\n",
        "*Default arguments\n",
        "*Variable-length arguments\n",
        "\n",
        "3. What are the different ways to define and call a function in Python?\n",
        "- By using the word def keyword followed by the function's name and parentheses () we can define a function. If the function takes any arguments, they are included inside the parentheses.\n",
        "Syntax of defining a function:\n",
        "def function_name(parameters):\n",
        "\n",
        "# Code to be executed\n",
        "\n",
        "return value\n",
        "\n",
        "##Calling a Function\n",
        "To call a function in Python, we definitely type the name of the function observed via parentheses ().\n",
        "\n",
        "- Syntax of Calling a function:\n",
        "function_name(arguments)\n",
        "\n",
        "Example:\n",
        "def fun():\n",
        "    print(\"Welcome to GFG\")\n",
        "#calling a function\n",
        "fun()\n",
        "    \n",
        "# Defining a function with parameters    \n",
        "def greet(name, age):\n",
        "    print(name, age)\n",
        "    \n",
        "#calling a function by passing arguments\n",
        "greet(\"Alice\",21)\n",
        "\n",
        "4.  What is the purpose of the `return` statement in a Python function ?\n",
        "- A return statement is used to end the execution of the function call and it “return” the value of the expression following the return keyword to the caller.A return statement is used to end the execution of the function call and it “returns” the value of the expression following the return keyword to the caller.\n",
        "\n",
        "5. What are iterators in Python and how do they differ from iterables?\n",
        "- Iterable is an object, that one can iterate over. It generates an Iterator when passed to iter() method. An iterator is an object, which is used to iterate over an iterable object using the __next__() method. Iterators have the __next__() method, which returns the next item of the object.\n",
        "Every iterator is also an iterable, but not every iterable is an iterator in Python.\n",
        "\n",
        "For example, a list is iterable but a list is not an iterator. An iterator can be created from an iterable by using the function iter().\n",
        "\n",
        "6. Explain the concept of generators in Python and how they are defined.\n",
        "\n",
        "- A generator function is a special type of function that returns an iterator object. Instead of using return to send back a single value, generator functions use yield to produce a series of results over time.\n",
        "\n",
        "#  Code Example:"
      ],
      "metadata": {
        "id": "bpwP1Avk2m_s"
      }
    },
    {
      "cell_type": "code",
      "source": [
        "def fun(max):\n",
        "    cnt = 1\n",
        "    while cnt <= max:\n",
        "        yield cnt\n",
        "        cnt += 1\n",
        "\n",
        "ctr = fun(5)\n",
        "for n in ctr:\n",
        "    print(n)"
      ],
      "metadata": {
        "colab": {
          "base_uri": "https://localhost:8080/"
        },
        "id": "RZFKkInK-6Ab",
        "outputId": "80c090d1-642c-4c25-c39e-7e05fb313b9b"
      },
      "execution_count": null,
      "outputs": [
        {
          "output_type": "stream",
          "name": "stdout",
          "text": [
            "1\n",
            "2\n",
            "3\n",
            "4\n",
            "5\n"
          ]
        }
      ]
    },
    {
      "cell_type": "markdown",
      "source": [
        "7. . What are the advantages of using generators over regular functions?\n",
        "- Yield vs. Return: Unlike the return statement, which exits the function, yield returns a value and pauses the function’s state, allowing it to resume from where it left off.\n",
        "\n",
        " Functions can yield multiple values over time, producing a sequence of results.\n",
        "\n",
        " # Lazy Evaluation:\n",
        "\n",
        "- On-Demand Data: Generators produce values one at a time and only when required, avoiding the need to generate or store all values upfront.\n",
        "- Memory Efficiency: Since values are generated as needed and not all at once, generators use minimal memory.\n",
        "\n",
        "8.  What is a lambda function in Python and when is it typically used?\n",
        "- Python Lambda Functions are anonymous functions means that the function is without a name. As we already know the def keyword is used to define a normal function in Python. Similarly, the lambda keyword is used to define an anonymous function in Python.\n",
        "\n",
        "# Syntax: lambda arguments : expression\n",
        "They are particularly useful in situations where a small function is needed temporarily or where the function definition is straightforward and can be expressed in a single line.\n",
        "\n",
        "9.  Explain the purpose and usage of the `map()` function in Python.\n",
        "- The map function applies a given function to all items in an input iterable (like a list) and returns an iterator with the results. It Used to transform each item in an iterable by applying the specified function.\n",
        "\n",
        "# Syntax:\n",
        "\n",
        "map(function, iterable)\n",
        "\n",
        "10. What is the difference between `map()`, `reduce()`, and `filter()` functions in Python ?\n",
        "- The map function applies a given function to all items in an input iterable (like a list) and returns an iterator with the results. It Used to transform each item in an iterable by applying the specified function.\n",
        "\n",
        "# Syntax:\n",
        "\n",
        "map(function, iterable)\n",
        "\n",
        "- Reduce : The reduce function from the functools module applies a given function cumulatively to the items of a sequence, from left to right, to reduce the sequence to a single value.\n",
        "\n",
        "# Syntax:\n",
        "\n",
        "from functools import reduce\n",
        "\n",
        "reduce(function, iterable)\n",
        "\n",
        "- Filter Functions:\n",
        " The filter function constructs an iterator from elements of an iterable for which a specified function returns True.\n",
        "\n",
        " # Syntax:\n",
        "\n",
        "filter(function, iterable)\n",
        "\n",
        "11.   \n",
        "\n",
        "\n",
        "\n",
        "\n",
        "\n"
      ],
      "metadata": {
        "id": "DSQSYAXo_OhI"
      }
    },
    {
      "cell_type": "markdown",
      "source": [
        "## Practical Questions:"
      ],
      "metadata": {
        "id": "BDxRIQMpdZN2"
      }
    },
    {
      "cell_type": "code",
      "source": [
        "# Write a Python function that takes a list of numbers as input and returns the sum of all even numbers in\n",
        "#the list.\n",
        "\n",
        "def sum_even_numbers(numbers):\n",
        "    sum_even = 0\n",
        "    for num in numbers:\n",
        "        if num % 2 == 0:\n",
        "            sum_even += num\n",
        "    return sum_even\n",
        "\n"
      ],
      "metadata": {
        "id": "4czo30z6ddX5"
      },
      "execution_count": null,
      "outputs": []
    },
    {
      "cell_type": "code",
      "source": [
        "numbers = [1,2,3,4,5,6]\n",
        "print(sum_even_numbers(numbers))"
      ],
      "metadata": {
        "colab": {
          "base_uri": "https://localhost:8080/"
        },
        "id": "IBLLHBiseYoK",
        "outputId": "87a5a750-b451-40d1-ebdf-d2e246c613aa"
      },
      "execution_count": null,
      "outputs": [
        {
          "output_type": "stream",
          "name": "stdout",
          "text": [
            "12\n"
          ]
        }
      ]
    },
    {
      "cell_type": "code",
      "source": [
        "# 2. Create a Python function that accepts a string and returns the reverse of that string.\n",
        "\n",
        "def reverse_string(string):\n",
        "    return string[::-1]\n",
        "\n"
      ],
      "metadata": {
        "id": "K3trSL-9gqqt"
      },
      "execution_count": null,
      "outputs": []
    },
    {
      "cell_type": "code",
      "source": [
        "string = \"yogesh\"\n",
        "print(reverse_string(string))"
      ],
      "metadata": {
        "colab": {
          "base_uri": "https://localhost:8080/"
        },
        "id": "7FZHOvDThEvd",
        "outputId": "8f766a91-91ed-483a-a8fd-5436280d0766"
      },
      "execution_count": null,
      "outputs": [
        {
          "output_type": "stream",
          "name": "stdout",
          "text": [
            "hsegoy\n"
          ]
        }
      ]
    },
    {
      "cell_type": "code",
      "source": [
        "# 3.  Implement a Python function that takes a list of integers and returns a new list containing the squares of\n",
        "#each number.\n",
        "\n",
        "def square_numbers(numbers):\n",
        "    squares = []\n",
        "    for num in numbers:\n",
        "        squares.append(num ** 2)\n",
        "    return squares"
      ],
      "metadata": {
        "id": "3LWTISJBhJPu"
      },
      "execution_count": null,
      "outputs": []
    },
    {
      "cell_type": "code",
      "source": [
        "numbers = [1,2,3,4,5,6]\n",
        "print(square_numbers(numbers))"
      ],
      "metadata": {
        "colab": {
          "base_uri": "https://localhost:8080/"
        },
        "id": "_p3p8n0vhWWt",
        "outputId": "dfa49211-c710-4777-c603-a2e780ecaa6e"
      },
      "execution_count": null,
      "outputs": [
        {
          "output_type": "stream",
          "name": "stdout",
          "text": [
            "[1, 4, 9, 16, 25, 36]\n"
          ]
        }
      ]
    },
    {
      "cell_type": "code",
      "source": [
        "# 4. Write a Python function that checks if a given number is prime or not from 1 to 200.\n",
        "\n",
        "def is_prime(number):\n",
        "    if number <= 1:\n",
        "        return False\n",
        "    if number <= 3:\n",
        "        return True\n",
        "    if number % 2 == 0 or number % 3 == 0:\n",
        "        return False\n"
      ],
      "metadata": {
        "id": "qcjEreKkhfRA"
      },
      "execution_count": null,
      "outputs": []
    },
    {
      "cell_type": "code",
      "source": [
        "print(is_prime(56))"
      ],
      "metadata": {
        "colab": {
          "base_uri": "https://localhost:8080/"
        },
        "id": "bFOP64EZiW4_",
        "outputId": "4e51b595-dc98-443d-9e4e-6896f548ce86"
      },
      "execution_count": null,
      "outputs": [
        {
          "output_type": "stream",
          "name": "stdout",
          "text": [
            "False\n"
          ]
        }
      ]
    },
    {
      "cell_type": "code",
      "source": [
        "# 5. Create an iterator class in Python that generates the Fibonacci sequence up to a specified number of\n",
        "#terms\n",
        "\n",
        "def fibonacci(n):\n",
        "\n",
        "    l = [0,1]\n",
        "    for i in range(2,n):\n",
        "        l.append(l[-1]+l[-2])\n",
        "    return l\n",
        "    n = 10\n",
        "    print(fibonacci(n))\n",
        "\n"
      ],
      "metadata": {
        "id": "y4KDOCt7jU7m"
      },
      "execution_count": null,
      "outputs": []
    },
    {
      "cell_type": "code",
      "source": [
        "n = 10\n",
        "print(fibonacci(n))\n"
      ],
      "metadata": {
        "colab": {
          "base_uri": "https://localhost:8080/"
        },
        "id": "Ce-7LCbHmeRE",
        "outputId": "acae74cd-535f-404c-d6b4-8ac30e4ebee5"
      },
      "execution_count": null,
      "outputs": [
        {
          "output_type": "stream",
          "name": "stdout",
          "text": [
            "[0, 1, 1, 2, 3, 5, 8, 13, 21, 34]\n"
          ]
        }
      ]
    },
    {
      "cell_type": "code",
      "source": [],
      "metadata": {
        "id": "9lBVgth3qrsf"
      },
      "execution_count": null,
      "outputs": []
    },
    {
      "cell_type": "code",
      "source": [
        "#7.Implement a generator function that reads a file line by line and yields each line as a string\n",
        "\n",
        "def read_lines(file_path):\n",
        "    with open(file_path, 'r') as file:\n",
        "        for line in file:\n",
        "            yield line.strip()\n"
      ],
      "metadata": {
        "id": "5I-Oy_0ToVUB"
      },
      "execution_count": null,
      "outputs": []
    },
    {
      "cell_type": "code",
      "source": [
        "#8.Use a lambda function in Python to sort a list of tuples based on the second element of each tuple.\n",
        "\n",
        " # List of tuples\n",
        "data = [(1, 8), (6, 2), (8, 5), (3, 7)]\n",
        "\n",
        "# Sort the list of tuples by the second element using a lambda function\n",
        "sorted_data = sorted(data, key=lambda x: x[1])\n",
        "\n",
        "# Output the sorted list\n",
        "print(sorted_data)"
      ],
      "metadata": {
        "id": "SUwZ6fmSpMDN"
      },
      "execution_count": null,
      "outputs": []
    },
    {
      "cell_type": "code",
      "source": [
        "#9.Write a Python program that uses `map()` to convert a list of temperatures from Celsius to Fahrenheit.\n",
        "\n",
        " celsius_temps = [0, 20, 25, 30, 35, 40]\n",
        " def celsius_to_fahrenheit(celsius):\n",
        "    return (celsius * 9/5) + 32\n",
        "fahrenheit_temps = list(map(celsius_to_fahrenheit, celsius_temps))\n",
        "print(fahrenheit_temps)\n"
      ],
      "metadata": {
        "id": "BdrtPHURqHbf"
      },
      "execution_count": null,
      "outputs": []
    },
    {
      "cell_type": "code",
      "source": [
        "#10.Create a Python program that uses `filter()` to remove all the vowels from a given string\n",
        " input_string = \"Hello, World!\"\n",
        "\n",
        "# Function to check if a character is a vowel\n",
        "def is_not_vowel(char):\n",
        "    return char.lower() not in 'aeiou'\n",
        "\n",
        "# Using filter() to remove vowels\n",
        "filtered_string = ''.join(filter(is_not_vowel, input_string))\n",
        "\n",
        "# Output the string without vowels\n",
        "print(filtered_string)\n"
      ],
      "metadata": {
        "id": "63uvtUQ_q7uM"
      },
      "execution_count": null,
      "outputs": []
    }
  ]
}